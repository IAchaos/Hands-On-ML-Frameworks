{
 "cells": [
  {
   "cell_type": "markdown",
   "id": "fce4a444",
   "metadata": {},
   "source": [
    "## Project ONE: Medical Expensives Predisction Using Linear Regression and Scikit Learn"
   ]
  },
  {
   "cell_type": "code",
   "execution_count": 1,
   "id": "d02b22f5",
   "metadata": {},
   "outputs": [],
   "source": [
    "medical_charges_url = 'https://raw.githubusercontent.com/JovianML/opendatasets/master/data/medical-charges.csv'"
   ]
  },
  {
   "cell_type": "code",
   "execution_count": 3,
   "id": "03bd7459",
   "metadata": {},
   "outputs": [
    {
     "data": {
      "text/plain": [
       "('medical_expensives.csv', <http.client.HTTPMessage at 0x20a71cbeff0>)"
      ]
     },
     "execution_count": 3,
     "metadata": {},
     "output_type": "execute_result"
    }
   ],
   "source": [
    "from urllib.request import urlretrieve\n",
    "urlretrieve(medical_charges_url, 'medical_expensives.csv')"
   ]
  }
 ],
 "metadata": {
  "kernelspec": {
   "display_name": "base",
   "language": "python",
   "name": "python3"
  },
  "language_info": {
   "codemirror_mode": {
    "name": "ipython",
    "version": 3
   },
   "file_extension": ".py",
   "mimetype": "text/x-python",
   "name": "python",
   "nbconvert_exporter": "python",
   "pygments_lexer": "ipython3",
   "version": "3.12.4"
  }
 },
 "nbformat": 4,
 "nbformat_minor": 5
}
